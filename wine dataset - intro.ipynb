{
 "cells": [
  {
   "cell_type": "markdown",
   "metadata": {},
   "source": [
    "# Wines Review - Data exploration and transformation"
   ]
  },
  {
   "cell_type": "markdown",
   "metadata": {},
   "source": [
    "See a comperhansive overview and details on this dataset [in the kaggle page](https://www.kaggle.com/zynicide/wine-reviews?select=winemag-data-130k-v2.csv).\n",
    "\n",
    "\n",
    "In the data exploration stage, we want to get familiar with the data we are working on, in terms of:\n",
    "\n",
    "* Shape of the dataset - how big is it (how many rows), how many columns, how is it constructed what each row represent, etc.\n",
    "* Columns data types, missing values, distributions, unique values etc.\n",
    "* Correlations, dependencies, inconsistencies (e.g. \"Yes\" vs \"yes\") etc.\n",
    "\n",
    "Based on the above (and more) we might choose to:\n",
    "\n",
    "* Reshape the data \n",
    "* Remove duplications/invalid entries/outliers\n",
    "* Transform part of the data\n",
    "* Normalize values to a stanrd from (i.e. set all strings fields to lower case form)\n",
    "* Etc.\n",
    "\n",
    "The goal of this stage is to gain understanding of what is the data infont of us and prepare it for our modeling stage."
   ]
  },
  {
   "cell_type": "code",
   "execution_count": 1,
   "metadata": {},
   "outputs": [
    {
     "data": {
      "text/html": [
       "        <script type=\"text/javascript\">\n",
       "        window.PlotlyConfig = {MathJaxConfig: 'local'};\n",
       "        if (window.MathJax) {MathJax.Hub.Config({SVG: {font: \"STIX-Web\"}});}\n",
       "        if (typeof require !== 'undefined') {\n",
       "        require.undef(\"plotly\");\n",
       "        requirejs.config({\n",
       "            paths: {\n",
       "                'plotly': ['https://cdn.plot.ly/plotly-2.2.0.min']\n",
       "            }\n",
       "        });\n",
       "        require(['plotly'], function(Plotly) {\n",
       "            window._Plotly = Plotly;\n",
       "        });\n",
       "        }\n",
       "        </script>\n",
       "        "
      ]
     },
     "metadata": {},
     "output_type": "display_data"
    }
   ],
   "source": [
    "import pandas as pd\n",
    "import cufflinks as cf; cf.go_offline()"
   ]
  },
  {
   "cell_type": "markdown",
   "metadata": {},
   "source": [
    "## Data loading "
   ]
  },
  {
   "cell_type": "code",
   "execution_count": 2,
   "metadata": {},
   "outputs": [
    {
     "data": {
      "text/plain": [
       "(129971, 14)"
      ]
     },
     "execution_count": 2,
     "metadata": {},
     "output_type": "execute_result"
    }
   ],
   "source": [
    "wine_reviews = pd.read_csv(\"data/winemag-data-130k-v2.csv\")\n",
    "wine_reviews.shape"
   ]
  },
  {
   "cell_type": "code",
   "execution_count": 3,
   "metadata": {},
   "outputs": [
    {
     "data": {
      "text/html": [
       "<div>\n",
       "<style scoped>\n",
       "    .dataframe tbody tr th:only-of-type {\n",
       "        vertical-align: middle;\n",
       "    }\n",
       "\n",
       "    .dataframe tbody tr th {\n",
       "        vertical-align: top;\n",
       "    }\n",
       "\n",
       "    .dataframe thead th {\n",
       "        text-align: right;\n",
       "    }\n",
       "</style>\n",
       "<table border=\"1\" class=\"dataframe\">\n",
       "  <thead>\n",
       "    <tr style=\"text-align: right;\">\n",
       "      <th></th>\n",
       "      <th>Unnamed: 0</th>\n",
       "      <th>country</th>\n",
       "      <th>description</th>\n",
       "      <th>designation</th>\n",
       "      <th>points</th>\n",
       "      <th>price</th>\n",
       "      <th>province</th>\n",
       "      <th>region_1</th>\n",
       "      <th>region_2</th>\n",
       "      <th>taster_name</th>\n",
       "      <th>taster_twitter_handle</th>\n",
       "      <th>title</th>\n",
       "      <th>variety</th>\n",
       "      <th>winery</th>\n",
       "    </tr>\n",
       "  </thead>\n",
       "  <tbody>\n",
       "    <tr>\n",
       "      <th>84154</th>\n",
       "      <td>84154</td>\n",
       "      <td>France</td>\n",
       "      <td>The wine has a lively mousse, crispened with a...</td>\n",
       "      <td>Oriane Brut</td>\n",
       "      <td>89</td>\n",
       "      <td>43.0</td>\n",
       "      <td>Champagne</td>\n",
       "      <td>Champagne</td>\n",
       "      <td>NaN</td>\n",
       "      <td>Roger Voss</td>\n",
       "      <td>@vossroger</td>\n",
       "      <td>Faniel et Fils NV Oriane Brut  (Champagne)</td>\n",
       "      <td>Champagne Blend</td>\n",
       "      <td>Faniel et Fils</td>\n",
       "    </tr>\n",
       "    <tr>\n",
       "      <th>44237</th>\n",
       "      <td>44237</td>\n",
       "      <td>US</td>\n",
       "      <td>Flashy and delicious, this just blows your min...</td>\n",
       "      <td>Moose Valley Vineyard</td>\n",
       "      <td>93</td>\n",
       "      <td>135.0</td>\n",
       "      <td>California</td>\n",
       "      <td>Napa Valley</td>\n",
       "      <td>Napa</td>\n",
       "      <td>NaN</td>\n",
       "      <td>NaN</td>\n",
       "      <td>D.R. Stephens 2009 Moose Valley Vineyard Caber...</td>\n",
       "      <td>Cabernet Sauvignon</td>\n",
       "      <td>D.R. Stephens</td>\n",
       "    </tr>\n",
       "    <tr>\n",
       "      <th>103148</th>\n",
       "      <td>103148</td>\n",
       "      <td>US</td>\n",
       "      <td>This barrel-forward wine offers aromas of cara...</td>\n",
       "      <td>NaN</td>\n",
       "      <td>88</td>\n",
       "      <td>36.0</td>\n",
       "      <td>Washington</td>\n",
       "      <td>Columbia Valley (WA)</td>\n",
       "      <td>Columbia Valley</td>\n",
       "      <td>Sean P. Sullivan</td>\n",
       "      <td>@wawinereport</td>\n",
       "      <td>Terra Vina Wines 2012 Tempranillo (Columbia Va...</td>\n",
       "      <td>Tempranillo</td>\n",
       "      <td>Terra Vina Wines</td>\n",
       "    </tr>\n",
       "    <tr>\n",
       "      <th>73934</th>\n",
       "      <td>73934</td>\n",
       "      <td>New Zealand</td>\n",
       "      <td>This wine starts on the shy side but with seve...</td>\n",
       "      <td>Mohua</td>\n",
       "      <td>88</td>\n",
       "      <td>14.0</td>\n",
       "      <td>Marlborough</td>\n",
       "      <td>NaN</td>\n",
       "      <td>NaN</td>\n",
       "      <td>NaN</td>\n",
       "      <td>NaN</td>\n",
       "      <td>Peregrine 2015 Mohua Sauvignon Blanc (Marlboro...</td>\n",
       "      <td>Sauvignon Blanc</td>\n",
       "      <td>Peregrine</td>\n",
       "    </tr>\n",
       "    <tr>\n",
       "      <th>83010</th>\n",
       "      <td>83010</td>\n",
       "      <td>US</td>\n",
       "      <td>Lots of ripe, luscious raspberry, cherry and m...</td>\n",
       "      <td>7200 Grassini Vineyard</td>\n",
       "      <td>87</td>\n",
       "      <td>42.0</td>\n",
       "      <td>California</td>\n",
       "      <td>Happy Canyon of Santa Barbara</td>\n",
       "      <td>Central Coast</td>\n",
       "      <td>NaN</td>\n",
       "      <td>NaN</td>\n",
       "      <td>Foxen 2010 7200 Grassini Vineyard Cabernet Sau...</td>\n",
       "      <td>Cabernet Sauvignon</td>\n",
       "      <td>Foxen</td>\n",
       "    </tr>\n",
       "  </tbody>\n",
       "</table>\n",
       "</div>"
      ],
      "text/plain": [
       "        Unnamed: 0      country  \\\n",
       "84154        84154       France   \n",
       "44237        44237           US   \n",
       "103148      103148           US   \n",
       "73934        73934  New Zealand   \n",
       "83010        83010           US   \n",
       "\n",
       "                                              description  \\\n",
       "84154   The wine has a lively mousse, crispened with a...   \n",
       "44237   Flashy and delicious, this just blows your min...   \n",
       "103148  This barrel-forward wine offers aromas of cara...   \n",
       "73934   This wine starts on the shy side but with seve...   \n",
       "83010   Lots of ripe, luscious raspberry, cherry and m...   \n",
       "\n",
       "                   designation  points  price     province  \\\n",
       "84154              Oriane Brut      89   43.0    Champagne   \n",
       "44237    Moose Valley Vineyard      93  135.0   California   \n",
       "103148                     NaN      88   36.0   Washington   \n",
       "73934                    Mohua      88   14.0  Marlborough   \n",
       "83010   7200 Grassini Vineyard      87   42.0   California   \n",
       "\n",
       "                             region_1         region_2       taster_name  \\\n",
       "84154                       Champagne              NaN        Roger Voss   \n",
       "44237                     Napa Valley             Napa               NaN   \n",
       "103148           Columbia Valley (WA)  Columbia Valley  Sean P. Sullivan   \n",
       "73934                             NaN              NaN               NaN   \n",
       "83010   Happy Canyon of Santa Barbara    Central Coast               NaN   \n",
       "\n",
       "       taster_twitter_handle  \\\n",
       "84154             @vossroger   \n",
       "44237                    NaN   \n",
       "103148         @wawinereport   \n",
       "73934                    NaN   \n",
       "83010                    NaN   \n",
       "\n",
       "                                                    title             variety  \\\n",
       "84154          Faniel et Fils NV Oriane Brut  (Champagne)     Champagne Blend   \n",
       "44237   D.R. Stephens 2009 Moose Valley Vineyard Caber...  Cabernet Sauvignon   \n",
       "103148  Terra Vina Wines 2012 Tempranillo (Columbia Va...         Tempranillo   \n",
       "73934   Peregrine 2015 Mohua Sauvignon Blanc (Marlboro...     Sauvignon Blanc   \n",
       "83010   Foxen 2010 7200 Grassini Vineyard Cabernet Sau...  Cabernet Sauvignon   \n",
       "\n",
       "                  winery  \n",
       "84154     Faniel et Fils  \n",
       "44237      D.R. Stephens  \n",
       "103148  Terra Vina Wines  \n",
       "73934          Peregrine  \n",
       "83010              Foxen  "
      ]
     },
     "execution_count": 3,
     "metadata": {},
     "output_type": "execute_result"
    }
   ],
   "source": [
    "wine_reviews.sample(5)"
   ]
  },
  {
   "cell_type": "code",
   "execution_count": null,
   "metadata": {},
   "outputs": [],
   "source": []
  },
  {
   "cell_type": "code",
   "execution_count": null,
   "metadata": {},
   "outputs": [],
   "source": []
  },
  {
   "cell_type": "markdown",
   "metadata": {},
   "source": [
    "## Vocabulary creation"
   ]
  },
  {
   "cell_type": "code",
   "execution_count": 1,
   "metadata": {},
   "outputs": [],
   "source": [
    "import nltk"
   ]
  },
  {
   "cell_type": "code",
   "execution_count": null,
   "metadata": {},
   "outputs": [],
   "source": [
    "df['desc_tokens'] = df.description.apply(lambda desc: nltk.word_tokenize(desc))"
   ]
  },
  {
   "cell_type": "code",
   "execution_count": 27,
   "metadata": {},
   "outputs": [
    {
     "data": {
      "text/html": [
       "<div>\n",
       "<style scoped>\n",
       "    .dataframe tbody tr th:only-of-type {\n",
       "        vertical-align: middle;\n",
       "    }\n",
       "\n",
       "    .dataframe tbody tr th {\n",
       "        vertical-align: top;\n",
       "    }\n",
       "\n",
       "    .dataframe thead th {\n",
       "        text-align: right;\n",
       "    }\n",
       "</style>\n",
       "<table border=\"1\" class=\"dataframe\">\n",
       "  <thead>\n",
       "    <tr style=\"text-align: right;\">\n",
       "      <th></th>\n",
       "      <th>word</th>\n",
       "      <th>wordCount</th>\n",
       "      <th>wordImportance</th>\n",
       "    </tr>\n",
       "  </thead>\n",
       "  <tbody>\n",
       "    <tr>\n",
       "      <th>0</th>\n",
       "      <td>rt</td>\n",
       "      <td>1338</td>\n",
       "      <td>0.007189</td>\n",
       "    </tr>\n",
       "    <tr>\n",
       "      <th>1</th>\n",
       "      <td>win</td>\n",
       "      <td>507</td>\n",
       "      <td>0.018972</td>\n",
       "    </tr>\n",
       "    <tr>\n",
       "      <th>2</th>\n",
       "      <td>giveaway</td>\n",
       "      <td>452</td>\n",
       "      <td>0.021281</td>\n",
       "    </tr>\n",
       "    <tr>\n",
       "      <th>3</th>\n",
       "      <td>enter</td>\n",
       "      <td>299</td>\n",
       "      <td>0.032170</td>\n",
       "    </tr>\n",
       "    <tr>\n",
       "      <th>4</th>\n",
       "      <td>im</td>\n",
       "      <td>279</td>\n",
       "      <td>0.034476</td>\n",
       "    </tr>\n",
       "  </tbody>\n",
       "</table>\n",
       "</div>"
      ],
      "text/plain": [
       "       word  wordCount  wordImportance\n",
       "0        rt       1338        0.007189\n",
       "1       win        507        0.018972\n",
       "2  giveaway        452        0.021281\n",
       "3     enter        299        0.032170\n",
       "4        im        279        0.034476"
      ]
     },
     "execution_count": 27,
     "metadata": {},
     "output_type": "execute_result"
    }
   ],
   "source": [
    "all_words = [word for tweet in df.pureTextTweet for word in nltk.word_tokenize(tweet) if word.lower() not in stopwords] # Words without stop words\n",
    "words_df = DataFrame(data = all_words, columns = ['word']).word.value_counts().reset_index()\n",
    "words_df.columns = ['word','wordCount']\n",
    "words_df['wordImportance'] = len(words_df) / words_df.wordCount / words_df.wordCount.max()\n",
    "words_df.head()"
   ]
  }
 ],
 "metadata": {
  "kernelspec": {
   "display_name": "Python 3",
   "language": "python",
   "name": "python3"
  },
  "language_info": {
   "codemirror_mode": {
    "name": "ipython",
    "version": 3
   },
   "file_extension": ".py",
   "mimetype": "text/x-python",
   "name": "python",
   "nbconvert_exporter": "python",
   "pygments_lexer": "ipython3",
   "version": "3.8.8"
  }
 },
 "nbformat": 4,
 "nbformat_minor": 4
}
